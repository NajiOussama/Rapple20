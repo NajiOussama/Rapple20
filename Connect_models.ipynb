{
 "cells": [
  {
   "cell_type": "code",
   "execution_count": null,
   "metadata": {},
   "outputs": [],
   "source": [
    "import requests\n",
    "\n",
    "# Chemin du fichier audio à tester\n",
    "audio_file_path = \"8_miles.wav\"  # Remplace par le chemin réel de ton fichier\n",
    "\n",
    "# Envoyer le fichier à l'API Flask\n",
    "with open(audio_file_path, \"rb\") as f:\n",
    "    files = {\"file\": f}\n",
    "    response = requests.post(\"http://localhost:5000/transcribe\", files=files)\n",
    "\n",
    "# Afficher la réponse du serveur\n",
    "print(\"Statut HTTP :\", response.status_code)"
   ]
  },
  {
   "cell_type": "code",
   "execution_count": null,
   "metadata": {},
   "outputs": [
    {
     "name": "stdout",
     "output_type": "stream",
     "text": [
      "Réponse du serveur :  Yo  This guy raps like his parents jerk him. He sounds like Eric Sermon the generic version  This whole crowd looks suspicious. It's all dudes in here except for these bitches\n"
     ]
    }
   ],
   "source": [
    "print(\"Réponse du serveur :\", response.json()['text'])"
   ]
  },
  {
   "cell_type": "code",
   "execution_count": null,
   "metadata": {},
   "outputs": [
    {
     "name": "stdout",
     "output_type": "stream",
     "text": [
      "Réponse du LLM : Yo, man, this nigga ain't no rapper's kid. He sounds like his dad, with that dope flow, and his pants are on fire. These dudes look like they're from the ghetto, but they ain't. They act like they don't know what it's like to be a real deal. It all adds up to a wild ride.\n"
     ]
    }
   ],
   "source": [
    "print(\"Réponse du LLM :\", response.json().get(\"llm_response\", \"Erreur\"))"
   ]
  },
  {
   "cell_type": "code",
   "execution_count": null,
   "metadata": {},
   "outputs": [
    {
     "name": "stdout",
     "output_type": "stream",
     "text": [
      "{'llm_response': \"Yo, man, this nigga ain't no rapper's kid. He sounds like his dad, with that dope flow, and his pants are on fire. These dudes look like they're from the ghetto, but they ain't. They act like they don't know what it's like to be a real deal. It all adds up to a wild ride.\", 'text': \" Yo  This guy raps like his parents jerk him. He sounds like Eric Sermon the generic version  This whole crowd looks suspicious. It's all dudes in here except for these bitches\"}\n"
     ]
    }
   ],
   "source": [
    "print(response.json())"
   ]
  },
  {
   "cell_type": "code",
   "execution_count": null,
   "metadata": {},
   "outputs": [
    {
     "name": "stdout",
     "output_type": "stream",
     "text": [
      "Fichier audio généré : generated_speech.wav\n"
     ]
    }
   ],
   "source": [
    "llm_response = response.json().get(\"llm_response\", \"\")\n",
    "\n",
    "# Envoyer le texte à l'API TTS\n",
    "tts_response = requests.post(\n",
    "    \"http://localhost:5000/tts\",\n",
    "    json={\"text\": llm_response}\n",
    ")\n",
    "\n",
    "# Vérifier si la réponse est correcte\n",
    "if tts_response.status_code == 200:\n",
    "    with open(\"generated_speech.wav\", \"wb\") as f:\n",
    "        f.write(tts_response.content)\n",
    "    print(\"Fichier audio généré : generated_speech.wav\")\n",
    "else:\n",
    "    print(\"Erreur dans la conversion TTS :\", tts_response.json())"
   ]
  }
 ],
 "metadata": {
  "kernelspec": {
   "display_name": ".venv",
   "language": "python",
   "name": "python3"
  },
  "language_info": {
   "codemirror_mode": {
    "name": "ipython",
    "version": 3
   },
   "file_extension": ".py",
   "mimetype": "text/x-python",
   "name": "python",
   "nbconvert_exporter": "python",
   "pygments_lexer": "ipython3",
   "version": "3.12.8"
  }
 },
 "nbformat": 4,
 "nbformat_minor": 2
}
