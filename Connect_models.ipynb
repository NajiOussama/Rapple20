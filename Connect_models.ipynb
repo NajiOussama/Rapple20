{
 "cells": [
  {
   "cell_type": "code",
   "execution_count": 1,
   "metadata": {},
   "outputs": [],
   "source": [
    "import requests\n",
    "import edge_tts"
   ]
  },
  {
   "cell_type": "code",
   "execution_count": 2,
   "metadata": {},
   "outputs": [
    {
     "name": "stdout",
     "output_type": "stream",
     "text": [
      "Statut HTTP : 200 \n",
      "\n",
      "Transcription :  Yo  This guy raps like his parents jerk him. He sounds like Eric Sermon the generic version  This whole crowd looks suspicious. It's all dudes in here except for these bitches \n",
      "\n",
      "Réponse du LLM : Yo man, it's no mystery this dude's got a bad rap.\n",
      "With that slick flow and his jacked tone,\n",
      "He looks like an old-school rap game changer.\n",
      "His music seems to be a mix of r&b & hip-hop,\n",
      "With that kind of style, he could've been a star.\n",
      "\n",
      "The crowd is suspicious, their eyes shining bright,\n",
      "But they're just as skeptical as the first guy.\n",
      "They're all dudes in here, except for these bitches,\n",
      "Who may or may not be more than a buzzkill.\n",
      "\n",
      "So if you wanna see something special, listen to this dude,\n",
      "His music and his style are sure to make you roll.\n",
      "Fichier audio enregistré sous : generated_speech.mp3\n"
     ]
    }
   ],
   "source": [
    "# Chemin du fichier audio à tester\n",
    "audio_file_path = \"8_miles.wav\"  # Remplace par le chemin réel de ton fichier\n",
    "\n",
    "# Envoyer le fichier à l'API Flask\n",
    "with open(audio_file_path, \"rb\") as f:\n",
    "    files = {\"file\": f}\n",
    "    response = requests.post(\"http://localhost:5000/transcribe\", files=files)\n",
    "\n",
    "# Afficher la réponse du serveur\n",
    "print(\"Statut HTTP :\", response.status_code, '\\n')\n",
    "\n",
    "print(\"Transcription :\", response.json()['text'], '\\n')\n",
    "\n",
    "print(\"Réponse du LLM :\", response.json().get(\"llm_response\", \"Erreur\"))\n",
    "\n",
    "\n",
    "async def text_to_speech(text, output_file, voice=\"en-US-GuyNeural\"):\n",
    "    tts = edge_tts.Communicate(text, voice)\n",
    "    await tts.save(output_file)\n",
    "    print(f\"Fichier audio enregistré sous : {output_file}\")\n",
    "\n",
    "# Supposons que `text` vienne de ta réponse API\n",
    "text = response.json().get(\"llm_response\", \"Erreur\")\n",
    "output_file = \"generated_speech.mp3\"\n",
    "\n",
    "# Utilisation de `await` au lieu de `asyncio.run()`\n",
    "await text_to_speech(text, output_file)"
   ]
  }
 ],
 "metadata": {
  "kernelspec": {
   "display_name": ".venv",
   "language": "python",
   "name": "python3"
  },
  "language_info": {
   "codemirror_mode": {
    "name": "ipython",
    "version": 3
   },
   "file_extension": ".py",
   "mimetype": "text/x-python",
   "name": "python",
   "nbconvert_exporter": "python",
   "pygments_lexer": "ipython3",
   "version": "3.12.8"
  }
 },
 "nbformat": 4,
 "nbformat_minor": 2
}
