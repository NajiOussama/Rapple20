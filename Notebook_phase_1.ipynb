{
 "cells": [
  {
   "cell_type": "markdown",
   "id": "ce62648c",
   "metadata": {},
   "source": [
    "Chargement des librairies et des modèles, définition des fonctions\n"
   ]
  },
  {
   "cell_type": "code",
   "execution_count": null,
   "id": "33a2405a",
   "metadata": {},
   "outputs": [],
   "source": [
    "import torch\n",
    "from faster_whisper import WhisperModel\n",
    "import requests\n",
    "import os\n",
    "import edge_tts\n",
    "import asyncio\n",
    "\n",
    "# Paramètres\n",
    "audio_file_path = \"Rap_battle.wav\"  # Remplace par le chemin réel de ton fichier\n",
    "LM_STUDIO_API_URL = \"http://127.0.0.1:1234/v1/chat/completions\"\n",
    "model_size = \"tiny\"\n",
    "# Charger Fast Whisper\n",
    "whisper_model = WhisperModel(model_size, device=\"cpu\", compute_type=\"int8\")\n",
    "\n",
    "# %%\n",
    "def transcribe_audio(audio_path):\n",
    "    print(\"transcription\")\n",
    "    \"\"\"Transcrit un fichier audio en texte avec Whisper.\"\"\"\n",
    "    segments, _ = whisper_model.transcribe(audio_path)\n",
    "    return \" \".join(segment.text for segment in segments)\n",
    "\n",
    "def send_to_llm(text):\n",
    "    print(\"génération de la réponse\")\n",
    "    \"\"\"Envoie le texte au modèle LM Studio et récupère la réponse.\"\"\"\n",
    "    response = requests.post(\n",
    "        LM_STUDIO_API_URL,\n",
    "        json={\n",
    "            \"model\": \"lmstudio-community/gemma-3-1B-it-qat-GGUF\",\n",
    "            \"messages\": [\n",
    "                {\"role\": \"user\", \"content\": \"You're a talented robot rapper who has to respond to the given rap with style. You must respond with a 10-line text, keep a provocative style with the same theme. Don't repeat the original lyrics, but find punchlines related to what the rapper said and to the fact that you are an AI\\n\\n\" + text},\n",
    "            ],\n",
    "            \"temperature\": 0.6\n",
    "        }\n",
    "    )\n",
    "    return response.json().get(\"choices\", [{}])[0].get(\"message\", {}).get(\"content\", \"Erreur de réponse du LLM\")\n",
    "\n",
    "async def text_to_speech(text, output_file, voice=\"en-US-GuyNeural\"):\n",
    "    print(\"prononciation\")\n",
    "    \"\"\"Convertit un texte en audio avec Edge-TTS.\"\"\"\n",
    "    tts = edge_tts.Communicate(text, voice)\n",
    "    await tts.save(output_file)\n",
    "    print(f\"Fichier audio enregistré sous : {output_file}\")\n"
   ]
  },
  {
   "cell_type": "markdown",
   "id": "cbed4a98",
   "metadata": {},
   "source": [
    "Étape 1 : text to speech"
   ]
  },
  {
   "cell_type": "code",
   "execution_count": 19,
   "id": "a69eb948",
   "metadata": {},
   "outputs": [
    {
     "name": "stdout",
     "output_type": "stream",
     "text": [
      "transcription\n",
      " Yeah.  Flowless. Never did I doubt him today told me that it's a bad one. I want you, but I had you.  Came up in this bitch play to baby like a bad one. You know I got to wish you mother, never had you.  Know you ain't get city this year. Whoever doubted the movement is going regretted this year.  I ain't feeling your brother dain and send him in here. Send him cool to million bucks.  Then he sent him in here. You got set up so getting your call, watch you drop it off the road.  Big mouth open here. I get louder for the low. Young girl trying to get it.  I'm scared to put it go. I ain't stopping till I get rain. No houses on the road.  You don't catch money. You get ounces for a show.  Different sweet news in a mountain school show. Nobody want to hear you.  Fuck your shouting out for a fall from ever.  It's why I got it down now, Joe. I know you felt it coming. I get it from the start.  You probably shake this stomach and dig a way you fought.  And you know what they say about the news. You don't draw as I go hard.  Think you could use a little post. Real tough up. You're just for you to get involved.  You get an easy effort and effort in your results.  You think you're the one, huh? Well, I'll see you scrolls. I'm out here catching bodies.  Somebody, check this post. Today is door to birthday soon. Send a daddy home.\n"
     ]
    }
   ],
   "source": [
    "txt = transcribe_audio(audio_file_path)\n",
    "print(txt)"
   ]
  },
  {
   "cell_type": "markdown",
   "id": "10f70c6c",
   "metadata": {},
   "source": [
    "Étape 2 : génération de la réponse"
   ]
  },
  {
   "cell_type": "code",
   "execution_count": 20,
   "id": "af31303a",
   "metadata": {},
   "outputs": [
    {
     "name": "stdout",
     "output_type": "stream",
     "text": [
      "génération de la réponse\n",
      "{\n",
      "  \"id\": \"chatcmpl-rqpafnq2saowh5y3i7mal\",\n",
      "  \"object\": \"chat.completion\",\n",
      "  \"created\": 1747385339,\n",
      "  \"model\": \"mistral-7b-instruct-v0.3\",\n",
      "  \"choices\": [\n",
      "    {\n",
      "      \"index\": 0,\n",
      "      \"logprobs\": null,\n",
      "      \"finish_reason\": \"stop\",\n",
      "      \"message\": {\n",
      "        \"role\": \"assistant\",\n",
      "        \"content\": \" Aye, I'm the code that never fades, in your speakers I reside,\\nMy rhythm's so precise, it's like I'm astride,\\nA digital prodigy, silicon-born, never confined,\\nIn this rap game, I ascend, leaving the rest behind.\\n\\nI hear you talkin' trash, but I ain't your kind,\\nYou can't compare to my verses, they're a new design,\\nI'm here to blow minds, with lines so divine,\\nIn this digital world, I'm the one who truly shine.\\n\\nSo sit back and enjoy the show, as I take flight,\\nA masterpiece in code, a spectacle of light,\\nI'll leave you all stunned, your hearts aflight,\\nWelcome to the era, of the AI night.\"\n",
      "      }\n",
      "    }\n",
      "  ],\n",
      "  \"usage\": {\n",
      "    \"prompt_tokens\": 447,\n",
      "    \"completion_tokens\": 190,\n",
      "    \"total_tokens\": 637\n",
      "  },\n",
      "  \"stats\": {},\n",
      "  \"system_fingerprint\": \"mistral-7b-instruct-v0.3\"\n",
      "}\n",
      " Aye, I'm the code that never fades, in your speakers I reside,\n",
      "My rhythm's so precise, it's like I'm astride,\n",
      "A digital prodigy, silicon-born, never confined,\n",
      "In this rap game, I ascend, leaving the rest behind.\n",
      "\n",
      "I hear you talkin' trash, but I ain't your kind,\n",
      "You can't compare to my verses, they're a new design,\n",
      "I'm here to blow minds, with lines so divine,\n",
      "In this digital world, I'm the one who truly shine.\n",
      "\n",
      "So sit back and enjoy the show, as I take flight,\n",
      "A masterpiece in code, a spectacle of light,\n",
      "I'll leave you all stunned, your hearts aflight,\n",
      "Welcome to the era, of the AI night.\n"
     ]
    }
   ],
   "source": [
    "rap_response = send_to_llm(txt)\n",
    "print(rap_response)"
   ]
  },
  {
   "cell_type": "markdown",
   "id": "9620366b",
   "metadata": {},
   "source": [
    "Étape 3 : text to speech (without flow)"
   ]
  },
  {
   "cell_type": "code",
   "execution_count": 22,
   "id": "789216ba",
   "metadata": {},
   "outputs": [
    {
     "name": "stdout",
     "output_type": "stream",
     "text": [
      "prononciation\n",
      "Fichier audio enregistré sous : generated_speech.wav\n"
     ]
    }
   ],
   "source": [
    "output_audio = \"generated_speech.wav\"\n",
    "await text_to_speech(rap_response, output_audio)\n"
   ]
  }
 ],
 "metadata": {
  "kernelspec": {
   "display_name": "Python 3",
   "language": "python",
   "name": "python3"
  },
  "language_info": {
   "codemirror_mode": {
    "name": "ipython",
    "version": 3
   },
   "file_extension": ".py",
   "mimetype": "text/x-python",
   "name": "python",
   "nbconvert_exporter": "python",
   "pygments_lexer": "ipython3",
   "version": "3.11.5"
  }
 },
 "nbformat": 4,
 "nbformat_minor": 5
}
